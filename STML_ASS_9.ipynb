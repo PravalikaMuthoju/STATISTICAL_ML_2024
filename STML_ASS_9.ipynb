{
  "nbformat": 4,
  "nbformat_minor": 0,
  "metadata": {
    "colab": {
      "provenance": [],
      "authorship_tag": "ABX9TyPCsi6NNqmfTKmbnZDuhw2m",
      "include_colab_link": true
    },
    "kernelspec": {
      "name": "python3",
      "display_name": "Python 3"
    },
    "language_info": {
      "name": "python"
    }
  },
  "cells": [
    {
      "cell_type": "markdown",
      "metadata": {
        "id": "view-in-github",
        "colab_type": "text"
      },
      "source": [
        "<a href=\"https://colab.research.google.com/github/PravalikaMuthoju/STATISTICAL_ML_2024/blob/main/STML_ASS_9.ipynb\" target=\"_parent\"><img src=\"https://colab.research.google.com/assets/colab-badge.svg\" alt=\"Open In Colab\"/></a>"
      ]
    },
    {
      "cell_type": "markdown",
      "source": [
        "Question 1:\n",
        "\n",
        "https://www.kaggle.com/datasets/kellistephenson/increasing-breast-cancer-awarenessLinks to an external site.\n",
        "\n",
        "\n",
        "\n",
        "Read the data with pandas and find features and target variables\n",
        "\n",
        "Find target variable\n",
        "\n",
        "Select suitable model and train\n",
        "\n",
        "Find accuracy with different test sizes"
      ],
      "metadata": {
        "id": "DtxpL7JbLYMv"
      }
    },
    {
      "cell_type": "code",
      "execution_count": null,
      "metadata": {
        "id": "3GQfviBTFLrM"
      },
      "outputs": [],
      "source": [
        "import pandas as pd\n",
        "data = pd.read_csv('/content/archive (8).zip')\n",
        "print(data.head())"
      ]
    },
    {
      "cell_type": "code",
      "source": [
        "\n",
        "import pandas as pd\n",
        "from sklearn.model_selection import train_test_split\n",
        "from sklearn.linear_model import LogisticRegression\n",
        "from sklearn.metrics import accuracy_score\n",
        "\n",
        "df = pd.read_csv('/content/archive (8).zip')\n",
        "print(df.head())\n",
        "df_encoded = pd.get_dummies(df)\n",
        "\n",
        "X = df_encoded.drop('Age', axis=1)\n",
        "y = df_encoded['Age']\n",
        "\n",
        "test_sizes = [0.2, 0.3, 0.4]\n",
        "\n",
        "for size in test_sizes:\n",
        "\n",
        "    X_train, X_test, y_train, y_test = train_test_split(X, y, test_size=size, random_state=42)\n",
        "    model = LogisticRegression(max_iter=1000)\n",
        "    model.fit(X_train, y_train)\n",
        "    y_pred = model.predict(X_test)\n",
        "    accuracy = accuracy_score(y_test, y_pred)\n",
        "    print(f'Accuracy with test size {size}: {accuracy:.2f}')\n"
      ],
      "metadata": {
        "colab": {
          "base_uri": "https://localhost:8080/"
        },
        "id": "3akoIWkHJGSL",
        "outputId": "36ccae60-b958-4751-95cb-c4e596c6be34"
      },
      "execution_count": null,
      "outputs": [
        {
          "output_type": "stream",
          "name": "stdout",
          "text": [
            "   Age  Gender  Protein1  Protein2  Protein3  Protein4 Tumour_Stage  \\\n",
            "0   42  FEMALE   0.95256   2.15000  0.007972 -0.048340           II   \n",
            "1   54  FEMALE   0.00000   1.38020 -0.498030 -0.507320           II   \n",
            "2   63  FEMALE  -0.52303   1.76400 -0.370190  0.010815           II   \n",
            "3   78  FEMALE  -0.87618   0.12943 -0.370380  0.132190            I   \n",
            "4   42  FEMALE   0.22611   1.74910 -0.543970 -0.390210           II   \n",
            "\n",
            "                       Histology ER status PR status HER2 status Surgery_type  \\\n",
            "0  Infiltrating Ductal Carcinoma  Positive  Positive    Negative        Other   \n",
            "1  Infiltrating Ductal Carcinoma  Positive  Positive    Negative        Other   \n",
            "2  Infiltrating Ductal Carcinoma  Positive  Positive    Negative   Lumpectomy   \n",
            "3  Infiltrating Ductal Carcinoma  Positive  Positive    Negative        Other   \n",
            "4  Infiltrating Ductal Carcinoma  Positive  Positive    Positive   Lumpectomy   \n",
            "\n",
            "  Date_of_Surgery Date_of_Last_Visit Patient_Status  \n",
            "0       20-May-18          26-Aug-18          Alive  \n",
            "1       26-Apr-18          25-Jan-19           Dead  \n",
            "2       24-Aug-18          08-Apr-20          Alive  \n",
            "3       16-Nov-18          28-Jul-20          Alive  \n",
            "4       12-Dec-18          05-Jan-19          Alive  \n",
            "Accuracy with test size 0.2: 0.03\n",
            "Accuracy with test size 0.3: 0.02\n",
            "Accuracy with test size 0.4: 0.01\n"
          ]
        }
      ]
    },
    {
      "cell_type": "markdown",
      "source": [
        "Question 2:\n",
        "\n",
        "https://www.kaggle.com/datasets/kellistephenson/increasing-breast-cancer-awarenessLinks to an external site.\n",
        "\n",
        "Implement Logistic Regression using pre-defied library.\n",
        "\n",
        "Analysis of different training and testing splits ranges, and find the accuracy.\n",
        "\n",
        "\n",
        "\n"
      ],
      "metadata": {
        "id": "0b2pMySpLi9P"
      }
    },
    {
      "cell_type": "code",
      "source": [
        "\n",
        "import pandas as pd\n",
        "from sklearn.model_selection import train_test_split\n",
        "from sklearn.linear_model import LogisticRegression\n",
        "from sklearn.metrics import accuracy_score\n",
        "\n",
        "\n",
        "df = pd.read_csv('/content/archive (8).zip')\n",
        "\n",
        "df_encoded = pd.get_dummies(df)\n",
        "\n",
        "X = df_encoded.drop('Age', axis=1)\n",
        "y = df_encoded['Age']\n",
        "\n",
        "\n",
        "split_ratios = [(0.6, 0.4), (0.7, 0.3), (0.8, 0.2)]\n",
        "\n",
        "for train_size, test_size in split_ratios:\n",
        "    print(f\"\\nTrain size: {train_size}, Test size: {test_size}\")\n",
        "\n",
        "    X_train, X_test, y_train, y_test = train_test_split(X, y, train_size=train_size, test_size=test_size, random_state=42)\n",
        "    model = LogisticRegression(max_iter=1000)\n",
        "    model.fit(X_train, y_train)\n",
        "\n",
        "    y_pred = model.predict(X_test)\n",
        "\n",
        "\n",
        "    accuracy = accuracy_score(y_test, y_pred)\n",
        "    print(f'Accuracy with train size {train_size * 100}% and test size {test_size * 100}%: {accuracy:.2f}')\n"
      ],
      "metadata": {
        "colab": {
          "base_uri": "https://localhost:8080/"
        },
        "id": "KnuzbjK6Ju8u",
        "outputId": "206c66e2-fe46-43b6-b7ad-ccbccb8fe4eb"
      },
      "execution_count": null,
      "outputs": [
        {
          "output_type": "stream",
          "name": "stdout",
          "text": [
            "\n",
            "Train size: 0.6, Test size: 0.4\n",
            "Accuracy with train size 60.0% and test size 40.0%: 0.01\n",
            "\n",
            "Train size: 0.7, Test size: 0.3\n",
            "Accuracy with train size 70.0% and test size 30.0%: 0.02\n",
            "\n",
            "Train size: 0.8, Test size: 0.2\n",
            "Accuracy with train size 80.0% and test size 20.0%: 0.03\n"
          ]
        }
      ]
    }
  ]
}