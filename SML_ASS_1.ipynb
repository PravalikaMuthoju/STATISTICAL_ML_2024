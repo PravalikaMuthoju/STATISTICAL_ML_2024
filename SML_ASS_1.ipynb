{
  "nbformat": 4,
  "nbformat_minor": 0,
  "metadata": {
    "colab": {
      "provenance": [],
      "toc_visible": true,
      "authorship_tag": "ABX9TyO7wTMaafW5qgygeAGytrfI",
      "include_colab_link": true
    },
    "kernelspec": {
      "name": "python3",
      "display_name": "Python 3"
    },
    "language_info": {
      "name": "python"
    }
  },
  "cells": [
    {
      "cell_type": "markdown",
      "metadata": {
        "id": "view-in-github",
        "colab_type": "text"
      },
      "source": [
        "<a href=\"https://colab.research.google.com/github/PravalikaMuthoju/STATISTICAL_ML_2024/blob/main/SML_ASS_1.ipynb\" target=\"_parent\"><img src=\"https://colab.research.google.com/assets/colab-badge.svg\" alt=\"Open In Colab\"/></a>"
      ]
    },
    {
      "cell_type": "code",
      "execution_count": null,
      "metadata": {
        "id": "6Ykep9vo-5nv",
        "colab": {
          "base_uri": "https://localhost:8080/",
          "height": 472
        },
        "outputId": "b90e06f5-8513-4502-960e-3c1763dfb9f7"
      },
      "outputs": [
        {
          "output_type": "display_data",
          "data": {
            "text/plain": [
              "<Figure size 640x480 with 1 Axes>"
            ],
            "image/png": "[encoded data removed]"
          },
          "metadata": {}
        }
      ],
      "source": [
        "import numpy as np\n",
        "import pandas as pd\n",
        "import matplotlib.pyplot as plt\n",
        "from scipy.stats import mode, skew, kurtosis\n",
        "\n",
        "# Given datasets\n",
        "X = [2.3, 2.5, 3.6, 2.8, 3.1, 2.9, 3.2, 2.7, 2.8, 3.0]\n",
        "\n",
        "# Question 1: Compute the density of the data using a histogram with 5 bins\n",
        "plt.hist(X, bins=5, density=True, alpha=0.7, color='blue')\n",
        "plt.title('Histogram of X with 5 Bins')\n",
        "plt.xlabel('X values')\n",
        "plt.ylabel('Density')\n",
        "plt.show()\n"
      ]
    },
    {
      "cell_type": "code",
      "source": [
        "import numpy as np\n",
        "import pandas as pd\n",
        "import matplotlib.pyplot as plt\n",
        "from scipy.stats import mode, skew, kurtosis\n",
        "\n",
        "# Question 2: Calculate statistical measures for X and Y\n",
        "Y = [4, 5, 8, 2, 4, 2, 7, 5]\n",
        "X_independent = [5, 6, 3, 8, 3, 7, 3, 8]\n",
        "\n",
        "\n",
        "def calculate_statistics(data):\n",
        "    data_mean = np.mean(data)\n",
        "    data_median = np.median(data)\n",
        "    data_mode = mode(data).mode\n",
        "    data_variance = np.var(data)\n",
        "    data_std_dev = np.std(data)\n",
        "    data_range = np.ptp(data)\n",
        "    data_iqr = np.percentile(data, 75) - np.percentile(data, 25)\n",
        "    data_skewness = skew(data)\n",
        "    data_kurtosis = kurtosis(data)\n",
        "\n",
        "    return {\n",
        "        \"Mean\": data_mean,\n",
        "        \"Median\": data_median,\n",
        "        \"Mode\": data_mode,\n",
        "        \"Variance\": data_variance,\n",
        "        \"Standard Deviation\": data_std_dev,\n",
        "        \"Range\": data_range,\n",
        "        \"Interquartile Range (IQR)\": data_iqr,\n",
        "        \"Skewness\": data_skewness,\n",
        "        \"Kurtosis\": data_kurtosis\n",
        "    }\n",
        "\n",
        "# Calculate statistics for X and Y\n",
        "X_stats = calculate_statistics(X)\n",
        "Y_stats = calculate_statistics(Y)\n",
        "\n",
        "# Display statistics for X and Y\n",
        "print(\"Statistics for X:\")\n",
        "for stat, value in X_stats.items():\n",
        "    print(f\"{stat}: {value}\")\n",
        "\n",
        "print(\"\\nStatistics for Y:\")\n",
        "for stat, value in Y_stats.items():\n",
        "    print(f\"{stat}: {value}\")\n",
        "\n"
      ],
      "metadata": {
        "id": "1NJdTqDwCTvk",
        "colab": {
          "base_uri": "https://localhost:8080/"
        },
        "outputId": "a4492034-312f-484f-91b3-5b6932fd1688"
      },
      "execution_count": null,
      "outputs": [
        {
          "output_type": "stream",
          "name": "stdout",
          "text": [
            "Statistics for X:\n",
            "Mean: 2.89\n",
            "Median: 2.8499999999999996\n",
            "Mode: 2.8\n",
            "Variance: 0.12090000000000005\n",
            "Standard Deviation: 0.3477067730142743\n",
            "Range: 1.3000000000000003\n",
            "Interquartile Range (IQR): 0.3500000000000001\n",
            "Skewness: 0.2980178611012123\n",
            "Kurtosis: -0.18689850931906538\n",
            "\n",
            "Statistics for Y:\n",
            "Mean: 4.625\n",
            "Median: 4.5\n",
            "Mode: 2\n",
            "Variance: 3.984375\n",
            "Standard Deviation: 1.996089927833914\n",
            "Range: 6\n",
            "Interquartile Range (IQR): 2.0\n",
            "Skewness: 0.24017543399265734\n",
            "Kurtosis: -0.9774394463667821\n"
          ]
        }
      ]
    },
    {
      "cell_type": "code",
      "source": [
        "# Question 3: Find statistical measures for the features of the given table\n",
        "Y = [4, 5, 8, 2, 4, 2, 7, 5]\n",
        "X_independent = [5, 6, 3, 8, 3, 7, 3, 8]\n",
        "XY_df = pd.DataFrame({'Y': Y, 'X': X_independent})\n",
        "\n",
        "XY_stats = XY_df.describe().T\n",
        "XY_stats['IQR'] = XY_stats['75%'] - XY_stats['25%']\n",
        "XY_stats['Skewness'] = XY_df.apply(lambda x: skew(x))\n",
        "XY_stats['Kurtosis'] = XY_df.apply(lambda x: kurtosis(x))\n",
        "\n",
        "print(\"\\nStatistical measures for the features in the given table:\")\n",
        "print(XY_stats)\n",
        "\n"
      ],
      "metadata": {
        "colab": {
          "base_uri": "https://localhost:8080/"
        },
        "id": "A9K8R62nC7-g",
        "outputId": "c36ea8a2-550c-4622-85f1-edfe4deed987"
      },
      "execution_count": null,
      "outputs": [
        {
          "output_type": "stream",
          "name": "stdout",
          "text": [
            "\n",
            "Statistical measures for the features in the given table:\n",
            "   count   mean       std  min  25%  50%   75%  max   IQR  Skewness  Kurtosis\n",
            "Y    8.0  4.625  2.133910  2.0  3.5  4.5  5.50  8.0  2.00  0.240175 -0.977439\n",
            "X    8.0  5.375  2.199838  3.0  3.0  5.5  7.25  8.0  4.25  0.006725 -1.622718\n"
          ]
        }
      ]
    }
  ]
}