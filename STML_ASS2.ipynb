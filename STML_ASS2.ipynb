{
  "nbformat": 4,
  "nbformat_minor": 0,
  "metadata": {
    "colab": {
      "provenance": [],
      "authorship_tag": "ABX9TyM/K4KJJzzW8MeDXsJXw9Uo",
      "include_colab_link": true
    },
    "kernelspec": {
      "name": "python3",
      "display_name": "Python 3"
    },
    "language_info": {
      "name": "python"
    }
  },
  "cells": [
    {
      "cell_type": "markdown",
      "metadata": {
        "id": "view-in-github",
        "colab_type": "text"
      },
      "source": [
        "<a href=\"https://colab.research.google.com/github/PravalikaMuthoju/STATISTICAL_ML_2024/blob/main/STML_ASS2.ipynb\" target=\"_parent\"><img src=\"https://colab.research.google.com/assets/colab-badge.svg\" alt=\"Open In Colab\"/></a>"
      ]
    },
    {
      "cell_type": "markdown",
      "source": [
        "STATISTICAL MACHINE LEARNING AGE ,BLOOD PRESSURE AND CHOLESTEROL DATA"
      ],
      "metadata": {
        "id": "BbDE4JMDXXJj"
      }
    },
    {
      "cell_type": "code",
      "source": [
        "from google.colab import drive\n",
        "drive.mount('/content/drive')"
      ],
      "metadata": {
        "colab": {
          "base_uri": "https://localhost:8080/"
        },
        "id": "nxVDjtRyPn-n",
        "outputId": "b69d0b0b-a79b-41eb-ae74-503bac9d7db7"
      },
      "execution_count": null,
      "outputs": [
        {
          "output_type": "stream",
          "name": "stdout",
          "text": [
            "Drive already mounted at /content/drive; to attempt to forcibly remount, call drive.mount(\"/content/drive\", force_remount=True).\n"
          ]
        }
      ]
    },
    {
      "cell_type": "code",
      "execution_count": null,
      "metadata": {
        "id": "X3m21KjGCWc0"
      },
      "outputs": [],
      "source": [
        "import numpy as np\n",
        "import pandas as pd\n",
        "import matplotlib.pyplot as plt\n",
        "from scipy.stats import mode, skew, kurtosis\n",
        "import seaborn as sns\n",
        "\n",
        "data=pd.read_csv('/content/heart_attack_dataset.csv',usecols=['Age'])"
      ]
    },
    {
      "cell_type": "code",
      "source": [
        "data.head(15)"
      ],
      "metadata": {
        "id": "PFc_JhguE8zL"
      },
      "execution_count": null,
      "outputs": []
    },
    {
      "cell_type": "code",
      "source": [
        "from typing import AsyncGenerator\n",
        "Age=data['Age']\n",
        "# Question 1: Compute the density of the data using a histogram with 5 bins\n",
        "plt.hist(Age, bins=5, density=True, alpha=0.7, color='GREEN')\n",
        "plt.title('Histogram of  Age with 5 Bins')\n",
        "plt.xlabel(' Age values')\n",
        "plt.ylabel('Density')\n",
        "plt.show()"
      ],
      "metadata": {
        "colab": {
          "base_uri": "https://localhost:8080/",
          "height": 472
        },
        "id": "jJrFcn9CEZZU",
        "outputId": "80ef6653-d294-47e4-8f5c-f0d575b11ceb"
      },
      "execution_count": null,
      "outputs": [
        {
          "output_type": "display_data",
          "data": {
            "text/plain": [
              "<Figure size 640x480 with 1 Axes>"
            ],
            "image/png": "[encoded data removed]"
          },
          "metadata": {}
        }
      ]
    },
    {
      "cell_type": "code",
      "source": [
        "import pandas as pd\n",
        "import numpy as np\n",
        "import matplotlib.pyplot as plt\n",
        "from scipy.stats import mode, skew, kurtosis\n",
        "\n",
        "\n",
        "\n"
      ],
      "metadata": {
        "id": "inZJ8rtXLxrM"
      },
      "execution_count": null,
      "outputs": []
    },
    {
      "cell_type": "code",
      "source": [
        "# Question 2: Calculate statistical measures for X and Y\n",
        "data = pd.read_csv('/content/heart_attack_dataset.csv', usecols=[ 'Blood Pressure (mmHg)', 'Cholesterol (mg/dL)'])\n",
        "\n",
        "\n"
      ],
      "metadata": {
        "id": "tEfmDbdCNTYz"
      },
      "execution_count": null,
      "outputs": []
    },
    {
      "cell_type": "code",
      "source": [
        "\n",
        "\n",
        "bloodPressure = data['Blood Pressure (mmHg)']\n",
        "cholestrol = data['Cholesterol (mg/dL)']\n",
        "X = bloodPressure  # Fix variable name here, it was 'bloodpressure'\n",
        "Y = cholestrol\n",
        "\n",
        "\n",
        "def calculate_statistics(data):\n",
        "    data_mean = np.mean(data)\n",
        "    data_median = np.median(data)\n",
        "    data_mode = mode(data).mode\n",
        "    data_variance = np.var(data)\n",
        "    data_std_dev = np.std(data)\n",
        "    data_range = np.ptp(data)\n",
        "    data_iqr = np.percentile(data, 75) - np.percentile(data, 25)\n",
        "    data_skewness = skew(data)\n",
        "    data_kurtosis = kurtosis(data)\n",
        "\n",
        "    return {\n",
        "        \"Mean\": data_mean,\n",
        "        \"Median\": data_median,\n",
        "        \"Mode\": data_mode,\n",
        "        \"Variance\": data_variance,\n",
        "        \"Standard Deviation\": data_std_dev,\n",
        "        \"Range\": data_range,\n",
        "        \"Interquartile Range (IQR)\": data_iqr,\n",
        "        \"Skewness\": data_skewness,\n",
        "        \"Kurtosis\": data_kurtosis\n",
        "    }\n",
        "\n",
        "# Calculate statistics for X and Y\n",
        "X_stats = calculate_statistics(bloodPressure)\n",
        "Y_stats = calculate_statistics(cholestrol)\n",
        "\n",
        "# Display statistics for X and Y\n",
        "print(\"Statistics for bloodpressure:\")\n",
        "for stat, value in X_stats.items():\n",
        "    print(f\"{stat}: {value}\")\n",
        "\n",
        "print(\"\\nStatistics for cholestrol:\")\n",
        "for stat, value in Y_stats.items():\n",
        "    print(f\"{stat}: {value}\")\n",
        "\n"
      ],
      "metadata": {
        "colab": {
          "base_uri": "https://localhost:8080/"
        },
        "id": "cIAXBLt5FVlG",
        "outputId": "abecfc13-7095-43dc-c0ab-822eb2d445a1"
      },
      "execution_count": null,
      "outputs": [
        {
          "output_type": "stream",
          "name": "stdout",
          "text": [
            "Statistics for bloodpressure:\n",
            "Mean: 145.44\n",
            "Median: 146.0\n",
            "Mode: 106\n",
            "Variance: 1007.4684\n",
            "Standard Deviation: 31.7406427156099\n",
            "Range: 109\n",
            "Interquartile Range (IQR): 55.0\n",
            "Skewness: -0.0090683670679518\n",
            "Kurtosis: -1.1799263073241757\n",
            "\n",
            "Statistics for cholestrol:\n",
            "Mean: 223.789\n",
            "Median: 225.5\n",
            "Mode: 185\n",
            "Variance: 1828.9664789999997\n",
            "Standard Deviation: 42.76641765451018\n",
            "Range: 149\n",
            "Interquartile Range (IQR): 74.0\n",
            "Skewness: 3.863225956890476e-06\n",
            "Kurtosis: -1.2045956767575303\n"
          ]
        }
      ]
    },
    {
      "cell_type": "code",
      "source": [
        "# Question 3: Find statistical measures for the features of the given tabl\n",
        "data = pd.read_csv('/content/heart_attack_dataset.csv', usecols=[ 'Blood Pressure (mmHg)', 'Cholesterol (mg/dL)'])\n",
        "X_independent = data['Blood Pressure (mmHg)']\n",
        "Y = data['Cholesterol (mg/dL)']\n",
        "XY_df = pd.DataFrame({'Y': Y, 'X': X_independent})\n",
        "\n",
        "XY_stats = XY_df.describe().T\n",
        "XY_stats['IQR'] = XY_stats['75%'] - XY_stats['25%']\n",
        "XY_stats['Skewness'] = XY_df.apply(lambda x: skew(x))\n",
        "XY_stats['Kurtosis'] = XY_df.apply(lambda x: kurtosis(x))\n",
        "\n",
        "print(\"\\nStatistical measures for the features in the given table:\")\n",
        "print(XY_stats)"
      ],
      "metadata": {
        "colab": {
          "base_uri": "https://localhost:8080/"
        },
        "id": "bohOUvXpOpq0",
        "outputId": "509ea652-6a49-4a38-ef99-299643750a46"
      },
      "execution_count": null,
      "outputs": [
        {
          "output_type": "stream",
          "name": "stdout",
          "text": [
            "\n",
            "Statistical measures for the features in the given table:\n",
            "    count     mean        std    min    25%    50%    75%    max   IQR  \\\n",
            "Y  1000.0  223.789  42.787817  150.0  185.0  225.5  259.0  299.0  74.0   \n",
            "X  1000.0  145.440  31.756525   90.0  118.0  146.0  173.0  199.0  55.0   \n",
            "\n",
            "   Skewness  Kurtosis  \n",
            "Y  0.000004 -1.204596  \n",
            "X -0.009068 -1.179926  \n"
          ]
        }
      ]
    }
  ]
}