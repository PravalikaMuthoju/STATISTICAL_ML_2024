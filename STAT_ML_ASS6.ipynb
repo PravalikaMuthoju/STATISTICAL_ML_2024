{
  "nbformat": 4,
  "nbformat_minor": 0,
  "metadata": {
    "colab": {
      "provenance": [],
      "authorship_tag": "ABX9TyPPIh7gQDEcUW0yRfW5GI5q",
      "include_colab_link": true
    },
    "kernelspec": {
      "name": "python3",
      "display_name": "Python 3"
    },
    "language_info": {
      "name": "python"
    }
  },
  "cells": [
    {
      "cell_type": "markdown",
      "metadata": {
        "id": "view-in-github",
        "colab_type": "text"
      },
      "source": [
        "<a href=\"https://colab.research.google.com/github/PravalikaMuthoju/STATISTICAL_ML_2024/blob/main/STAT_ML_ASS6.ipynb\" target=\"_parent\"><img src=\"https://colab.research.google.com/assets/colab-badge.svg\" alt=\"Open In Colab\"/></a>"
      ]
    },
    {
      "cell_type": "markdown",
      "source": [
        "Question 1:\n",
        "\n",
        "Imagine you are developing a simple machine learning model to predict whether a student will pass a course based on the following five features:\n",
        "\n",
        "Study Hours per Week: Number of hours the student studies per week.\n",
        "Class Attendance (%): Percentage of classes attended by the student.\n",
        "Previous Exam Score (%): Score in the previous exam.\n",
        "Participation in Group Study: Whether the student participates in group study sessions (1 for Yes, 0 for No).\n",
        "Submission of Assignments (%): Percentage of assignments submitted by the student.\n",
        "Dataset\n",
        "\n"
      ],
      "metadata": {
        "id": "kJCMeaRYT1So"
      }
    },
    {
      "cell_type": "code",
      "source": [],
      "metadata": {
        "id": "h1JQyTBdUYNu"
      },
      "execution_count": null,
      "outputs": []
    },
    {
      "cell_type": "code",
      "source": [
        "import pandas as pd\n",
        "from sklearn.model_selection import train_test_split\n",
        "from sklearn.ensemble import RandomForestClassifier\n",
        "from sklearn.metrics import accuracy_score, classification_report\n"
      ],
      "metadata": {
        "id": "HATcTJOJzJnc"
      },
      "execution_count": null,
      "outputs": []
    },
    {
      "cell_type": "code",
      "execution_count": null,
      "metadata": {
        "id": "Cg_m0GzpydsQ"
      },
      "outputs": [],
      "source": [
        "data = {\n",
        "    'Study Hours per Week': [9, 15, 2, 12, 14, 1, 3, 11, 6, 8],\n",
        "    'Class Attendance (%)': [90, 95, 30, 85, 75, 92, 50, 88, 65, 80],\n",
        "    'Previous Exam Score (%)': [70, 90, 50, 88, 63, 93, 55, 80, 60, 85],\n",
        "    'Participation in Group Study': [1, 0, 0, 1, 0, 1, 1, 1, 0, 1],\n",
        "    'Submission of Assignments (%)': [100, 95, 40, 100, 95, 100, 0, 75, 0, 90],\n",
        "    'Pass/Fail': [1, 1, 0, 1, 0, 1, 0, 1, 0, 1]\n",
        "}\n",
        "\n",
        "df = pd.DataFrame(data)\n",
        "\n",
        "\n",
        "X = df.drop('Pass/Fail', axis=1)\n",
        "y = df['Pass/Fail']\n",
        "\n",
        "X_train, X_test, y_train, y_test = train_test_split(X, y, test_size=0.2, random_state=42)\n"
      ]
    },
    {
      "cell_type": "code",
      "source": [
        "\n",
        "model = RandomForestClassifier(random_state=42)\n",
        "\n",
        "\n",
        "model.fit(X_train, y_train)\n",
        "\n",
        "\n",
        "y_pred = model.predict(X_test)\n",
        "\n",
        "\n",
        "accuracy = accuracy_score(y_test, y_pred)\n",
        "\n",
        "print(f\"Model Accuracy: {accuracy * 100:.2f}%\")\n",
        "print(\"Classification Report:\\n\", classification_report(y_test, y_pred))\n",
        "\n",
        "\n"
      ],
      "metadata": {
        "colab": {
          "base_uri": "https://localhost:8080/"
        },
        "id": "8ZATQPgFy7te",
        "outputId": "bdd75c34-457a-4a4d-b69f-c4b8a7cdc0b8"
      },
      "execution_count": null,
      "outputs": [
        {
          "output_type": "stream",
          "name": "stdout",
          "text": [
            "Model Accuracy: 100.00%\n",
            "Classification Report:\n",
            "               precision    recall  f1-score   support\n",
            "\n",
            "           0       1.00      1.00      1.00         1\n",
            "           1       1.00      1.00      1.00         1\n",
            "\n",
            "    accuracy                           1.00         2\n",
            "   macro avg       1.00      1.00      1.00         2\n",
            "weighted avg       1.00      1.00      1.00         2\n",
            "\n"
          ]
        }
      ]
    },
    {
      "cell_type": "markdown",
      "source": [
        "Question : 2\n",
        "\n",
        "Implement a perceptron learning model to train above data, and find the accuracy."
      ],
      "metadata": {
        "id": "7FRoXimlUH8f"
      }
    },
    {
      "cell_type": "code",
      "source": [
        "import pandas as pd\n",
        "from sklearn.model_selection import train_test_split\n",
        "from sklearn.preprocessing import StandardScaler, OneHotEncoder\n",
        "from sklearn.compose import ColumnTransformer\n",
        "from sklearn.linear_model import Perceptron\n",
        "from sklearn.metrics import accuracy_score\n",
        "\n",
        "df = pd.read_csv('/content/archive (7) (1).zip')\n",
        "print(df.isnull().sum())\n",
        "X = df.drop(columns=['class'])\n",
        "y = df['class']\n",
        "\n",
        "\n",
        "X_train, X_test, y_train, y_test = train_test_split(X, y, test_size=0.3, random_state=42)\n",
        "\n",
        "numerical_features = X_train.select_dtypes(include=['int64', 'float64']).columns\n",
        "categorical_features = X_train.select_dtypes(include=['object']).columns\n",
        "\n",
        "numeric_transformer = StandardScaler()\n",
        "categorical_transformer = OneHotEncoder(handle_unknown='ignore')\n",
        "\n",
        "preprocessor = ColumnTransformer(\n",
        "    transformers=[\n",
        "        ('num', numeric_transformer, numerical_features),\n",
        "        ('cat', categorical_transformer, categorical_features)\n",
        "    ])\n",
        "\n",
        "\n",
        "X_train_scaled = preprocessor.fit_transform(X_train)\n",
        "X_test_scaled = preprocessor.transform(X_test)\n",
        "\n",
        "perceptron = Perceptron(max_iter=1000, tol=1e-3, random_state=42)\n",
        "perceptron.fit(X_train_scaled, y_train)\n",
        "\n",
        "\n",
        "y_pred = perceptron.predict(X_test_scaled)\n",
        "accuracy = accuracy_score(y_test, y_pred)\n",
        "print(f'Perceptron Model Accuracy: {accuracy * 100:.2f}%')"
      ],
      "metadata": {
        "colab": {
          "base_uri": "https://localhost:8080/"
        },
        "id": "1IdgCa9BR3rS",
        "outputId": "9c41890b-b4c5-47cd-9f62-8a6ca0406c29"
      },
      "execution_count": null,
      "outputs": [
        {
          "output_type": "stream",
          "name": "stdout",
          "text": [
            "Age                   0\n",
            "Gender                0\n",
            "Polyuria              0\n",
            "Polydipsia            0\n",
            "sudden weight loss    0\n",
            "weakness              0\n",
            "Polyphagia            0\n",
            "Genital thrush        0\n",
            "visual blurring       0\n",
            "Itching               0\n",
            "Irritability          0\n",
            "delayed healing       0\n",
            "partial paresis       0\n",
            "muscle stiffness      0\n",
            "Alopecia              0\n",
            "Obesity               0\n",
            "class                 0\n",
            "dtype: int64\n",
            "Perceptron Model Accuracy: 88.46%\n"
          ]
        }
      ]
    }
  ]
}