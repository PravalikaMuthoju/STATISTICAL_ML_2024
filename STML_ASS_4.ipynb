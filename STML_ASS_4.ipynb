{
  "nbformat": 4,
  "nbformat_minor": 0,
  "metadata": {
    "colab": {
      "provenance": [],
      "mount_file_id": "1Yc0s39yMQaF2QSPw32gt_c_YgwI8xuEf",
      "authorship_tag": "ABX9TyOGksOtrcvTT9NFTpBKLohM",
      "include_colab_link": true
    },
    "kernelspec": {
      "name": "python3",
      "display_name": "Python 3"
    },
    "language_info": {
      "name": "python"
    }
  },
  "cells": [
    {
      "cell_type": "markdown",
      "metadata": {
        "id": "view-in-github",
        "colab_type": "text"
      },
      "source": [
        "<a href=\"https://colab.research.google.com/github/PravalikaMuthoju/STATISTICAL_ML_2024/blob/main/STML_ASS_4.ipynb\" target=\"_parent\"><img src=\"https://colab.research.google.com/assets/colab-badge.svg\" alt=\"Open In Colab\"/></a>"
      ]
    },
    {
      "cell_type": "markdown",
      "source": [
        "QUESTION1:\n",
        "\n",
        "Read the data with pandas and find features and target variables\n",
        "\n",
        "Normalize the data with min-max scaling\n",
        "\n",
        "Split the data into train and test.                          \n"
      ],
      "metadata": {
        "id": "70WC8KqGfYj-"
      }
    },
    {
      "cell_type": "code",
      "execution_count": null,
      "metadata": {
        "colab": {
          "base_uri": "https://localhost:8080/"
        },
        "id": "IetgyyYJb0_9",
        "outputId": "dd5449ea-ae3f-4524-effd-79330fe9d218"
      },
      "outputs": [
        {
          "output_type": "stream",
          "name": "stdout",
          "text": [
            "   battery_power  blue  clock_speed  dual_sim  fc  four_g  int_memory  m_dep  \\\n",
            "0            842     0          2.2         0   1       0           7    0.6   \n",
            "1           1021     1          0.5         1   0       1          53    0.7   \n",
            "2            563     1          0.5         1   2       1          41    0.9   \n",
            "3            615     1          2.5         0   0       0          10    0.8   \n",
            "4           1821     1          1.2         0  13       1          44    0.6   \n",
            "\n",
            "   mobile_wt  n_cores  ...  px_height  px_width   ram  sc_h  sc_w  talk_time  \\\n",
            "0        188        2  ...         20       756  2549     9     7         19   \n",
            "1        136        3  ...        905      1988  2631    17     3          7   \n",
            "2        145        5  ...       1263      1716  2603    11     2          9   \n",
            "3        131        6  ...       1216      1786  2769    16     8         11   \n",
            "4        141        2  ...       1208      1212  1411     8     2         15   \n",
            "\n",
            "   three_g  touch_screen  wifi  price_range  \n",
            "0        0             0     1            1  \n",
            "1        1             1     0            2  \n",
            "2        1             1     0            2  \n",
            "3        1             0     0            2  \n",
            "4        1             1     0            1  \n",
            "\n",
            "[5 rows x 21 columns]\n",
            "Index(['battery_power', 'blue', 'clock_speed', 'dual_sim', 'fc', 'four_g',\n",
            "       'int_memory', 'm_dep', 'mobile_wt', 'n_cores', 'pc', 'px_height',\n",
            "       'px_width', 'ram', 'sc_h', 'sc_w', 'talk_time', 'three_g',\n",
            "       'touch_screen', 'wifi', 'price_range'],\n",
            "      dtype='object')\n",
            "Features shape: (2000, 20)\n",
            "Target shape: (2000,)\n"
          ]
        }
      ],
      "source": [
        "import pandas as pd\n",
        "import zipfile\n",
        "with zipfile.ZipFile('/archive (3).zip', 'r') as zip_ref:\n",
        "    zip_ref.extract('train.csv')\n",
        "df = pd.read_csv('train.csv')\n",
        "\n",
        "print(df.head())\n",
        "print(df.columns)\n",
        "\n",
        "target_variable = 'price_range'\n",
        "features = df.drop(columns=[target_variable])\n",
        "target = df[target_variable]\n",
        "\n",
        "print(f'Features shape: {features.shape}')\n",
        "print(f'Target shape: {target.shape}')"
      ]
    },
    {
      "cell_type": "markdown",
      "source": [
        "# New Section"
      ],
      "metadata": {
        "id": "Q6ljqo6gPADb"
      }
    },
    {
      "cell_type": "code",
      "source": [
        "from google.colab import drive\n",
        "drive.mount('/content/drive')"
      ],
      "metadata": {
        "colab": {
          "base_uri": "https://localhost:8080/"
        },
        "id": "qLsAFNSjeDju",
        "outputId": "cb18fb45-bc90-44eb-d62b-31e9f39f5205"
      },
      "execution_count": null,
      "outputs": [
        {
          "output_type": "stream",
          "name": "stdout",
          "text": [
            "Drive already mounted at /content/drive; to attempt to forcibly remount, call drive.mount(\"/content/drive\", force_remount=True).\n"
          ]
        }
      ]
    },
    {
      "cell_type": "code",
      "source": [
        "from sklearn.preprocessing import MinMaxScaler\n",
        "\n",
        "scaler = MinMaxScaler()\n",
        "normalized_features = scaler.fit_transform(features)\n",
        "\n",
        "normalized_features_df = pd.DataFrame(normalized_features, columns=features.columns)\n",
        "\n",
        "print(normalized_features_df.head())"
      ],
      "metadata": {
        "colab": {
          "base_uri": "https://localhost:8080/"
        },
        "id": "3F_mgQAvcBAh",
        "outputId": "9c9017cc-989a-437a-e218-5bd432d5a1ac"
      },
      "execution_count": null,
      "outputs": [
        {
          "output_type": "stream",
          "name": "stdout",
          "text": [
            "   battery_power  blue  clock_speed  dual_sim        fc  four_g  int_memory  \\\n",
            "0       0.227789   0.0         0.68       0.0  0.052632     0.0    0.080645   \n",
            "1       0.347361   1.0         0.00       1.0  0.000000     1.0    0.822581   \n",
            "2       0.041416   1.0         0.00       1.0  0.105263     1.0    0.629032   \n",
            "3       0.076152   1.0         0.80       0.0  0.000000     0.0    0.129032   \n",
            "4       0.881764   1.0         0.28       0.0  0.684211     1.0    0.677419   \n",
            "\n",
            "      m_dep  mobile_wt   n_cores    pc  px_height  px_width       ram  \\\n",
            "0  0.555556   0.900000  0.142857  0.10   0.010204  0.170895  0.612774   \n",
            "1  0.666667   0.466667  0.285714  0.30   0.461735  0.993324  0.634687   \n",
            "2  0.888889   0.541667  0.571429  0.30   0.644388  0.811749  0.627205   \n",
            "3  0.777778   0.425000  0.714286  0.45   0.620408  0.858478  0.671566   \n",
            "4  0.555556   0.508333  0.142857  0.70   0.616327  0.475300  0.308658   \n",
            "\n",
            "       sc_h      sc_w  talk_time  three_g  touch_screen  wifi  \n",
            "0  0.285714  0.388889   0.944444      0.0           0.0   1.0  \n",
            "1  0.857143  0.166667   0.277778      1.0           1.0   0.0  \n",
            "2  0.428571  0.111111   0.388889      1.0           1.0   0.0  \n",
            "3  0.785714  0.444444   0.500000      1.0           0.0   0.0  \n",
            "4  0.214286  0.111111   0.722222      1.0           1.0   0.0  \n"
          ]
        }
      ]
    },
    {
      "cell_type": "code",
      "source": [
        "from sklearn.model_selection import train_test_split\n",
        "\n",
        "X_train, X_test, y_train, y_test = train_test_split(normalized_features_df, target, test_size=0.2, random_state=42)\n",
        "\n",
        "print(f'X_train shape: {X_train.shape}')\n",
        "print(f'X_test shape: {X_test.shape}')\n",
        "print(f'y_train shape: {y_train.shape}')\n",
        "print(f'y_test shape: {y_test.shape}')"
      ],
      "metadata": {
        "colab": {
          "base_uri": "https://localhost:8080/"
        },
        "id": "twwV6zNScGLl",
        "outputId": "43c85e75-643f-4813-ca6e-e1613966bd37"
      },
      "execution_count": null,
      "outputs": [
        {
          "output_type": "stream",
          "name": "stdout",
          "text": [
            "X_train shape: (1600, 20)\n",
            "X_test shape: (400, 20)\n",
            "y_train shape: (1600,)\n",
            "y_test shape: (400,)\n"
          ]
        }
      ]
    },
    {
      "cell_type": "markdown",
      "source": [
        "QUESTION 2:\n",
        "\n",
        "Read the data with pandas and describe the data\n",
        "\n",
        "Find data type and shape of each column\n",
        "\n",
        "Find the target and features\n",
        "\n",
        "Find the null values (if yes fill the null values with ‘0’ or mean of that column)\n",
        "\n",
        "Normalize all the features\n",
        "\n",
        "Split the data into train and test."
      ],
      "metadata": {
        "id": "sXqT2CacfvM9"
      }
    },
    {
      "cell_type": "code",
      "source": [
        "import pandas as pd\n",
        "\n",
        "df = pd.read_csv('/content/train.csv')\n",
        "\n",
        "print(df.head())\n",
        "print(df.info())\n",
        "print(df.describe())"
      ],
      "metadata": {
        "colab": {
          "base_uri": "https://localhost:8080/"
        },
        "id": "iKTgrD3ucSrG",
        "outputId": "845a80ab-b3ac-496e-a9ad-984aeb4bb301"
      },
      "execution_count": null,
      "outputs": [
        {
          "output_type": "stream",
          "name": "stdout",
          "text": [
            "   battery_power  blue  clock_speed  dual_sim  fc  four_g  int_memory  m_dep  \\\n",
            "0            842     0          2.2         0   1       0           7    0.6   \n",
            "1           1021     1          0.5         1   0       1          53    0.7   \n",
            "2            563     1          0.5         1   2       1          41    0.9   \n",
            "3            615     1          2.5         0   0       0          10    0.8   \n",
            "4           1821     1          1.2         0  13       1          44    0.6   \n",
            "\n",
            "   mobile_wt  n_cores  ...  px_height  px_width   ram  sc_h  sc_w  talk_time  \\\n",
            "0        188        2  ...         20       756  2549     9     7         19   \n",
            "1        136        3  ...        905      1988  2631    17     3          7   \n",
            "2        145        5  ...       1263      1716  2603    11     2          9   \n",
            "3        131        6  ...       1216      1786  2769    16     8         11   \n",
            "4        141        2  ...       1208      1212  1411     8     2         15   \n",
            "\n",
            "   three_g  touch_screen  wifi  price_range  \n",
            "0        0             0     1            1  \n",
            "1        1             1     0            2  \n",
            "2        1             1     0            2  \n",
            "3        1             0     0            2  \n",
            "4        1             1     0            1  \n",
            "\n",
            "[5 rows x 21 columns]\n",
            "<class 'pandas.core.frame.DataFrame'>\n",
            "RangeIndex: 2000 entries, 0 to 1999\n",
            "Data columns (total 21 columns):\n",
            " #   Column         Non-Null Count  Dtype  \n",
            "---  ------         --------------  -----  \n",
            " 0   battery_power  2000 non-null   int64  \n",
            " 1   blue           2000 non-null   int64  \n",
            " 2   clock_speed    2000 non-null   float64\n",
            " 3   dual_sim       2000 non-null   int64  \n",
            " 4   fc             2000 non-null   int64  \n",
            " 5   four_g         2000 non-null   int64  \n",
            " 6   int_memory     2000 non-null   int64  \n",
            " 7   m_dep          2000 non-null   float64\n",
            " 8   mobile_wt      2000 non-null   int64  \n",
            " 9   n_cores        2000 non-null   int64  \n",
            " 10  pc             2000 non-null   int64  \n",
            " 11  px_height      2000 non-null   int64  \n",
            " 12  px_width       2000 non-null   int64  \n",
            " 13  ram            2000 non-null   int64  \n",
            " 14  sc_h           2000 non-null   int64  \n",
            " 15  sc_w           2000 non-null   int64  \n",
            " 16  talk_time      2000 non-null   int64  \n",
            " 17  three_g        2000 non-null   int64  \n",
            " 18  touch_screen   2000 non-null   int64  \n",
            " 19  wifi           2000 non-null   int64  \n",
            " 20  price_range    2000 non-null   int64  \n",
            "dtypes: float64(2), int64(19)\n",
            "memory usage: 328.2 KB\n",
            "None\n",
            "       battery_power       blue  clock_speed     dual_sim           fc  \\\n",
            "count    2000.000000  2000.0000  2000.000000  2000.000000  2000.000000   \n",
            "mean     1238.518500     0.4950     1.522250     0.509500     4.309500   \n",
            "std       439.418206     0.5001     0.816004     0.500035     4.341444   \n",
            "min       501.000000     0.0000     0.500000     0.000000     0.000000   \n",
            "25%       851.750000     0.0000     0.700000     0.000000     1.000000   \n",
            "50%      1226.000000     0.0000     1.500000     1.000000     3.000000   \n",
            "75%      1615.250000     1.0000     2.200000     1.000000     7.000000   \n",
            "max      1998.000000     1.0000     3.000000     1.000000    19.000000   \n",
            "\n",
            "            four_g   int_memory        m_dep    mobile_wt      n_cores  ...  \\\n",
            "count  2000.000000  2000.000000  2000.000000  2000.000000  2000.000000  ...   \n",
            "mean      0.521500    32.046500     0.501750   140.249000     4.520500  ...   \n",
            "std       0.499662    18.145715     0.288416    35.399655     2.287837  ...   \n",
            "min       0.000000     2.000000     0.100000    80.000000     1.000000  ...   \n",
            "25%       0.000000    16.000000     0.200000   109.000000     3.000000  ...   \n",
            "50%       1.000000    32.000000     0.500000   141.000000     4.000000  ...   \n",
            "75%       1.000000    48.000000     0.800000   170.000000     7.000000  ...   \n",
            "max       1.000000    64.000000     1.000000   200.000000     8.000000  ...   \n",
            "\n",
            "         px_height     px_width          ram         sc_h         sc_w  \\\n",
            "count  2000.000000  2000.000000  2000.000000  2000.000000  2000.000000   \n",
            "mean    645.108000  1251.515500  2124.213000    12.306500     5.767000   \n",
            "std     443.780811   432.199447  1084.732044     4.213245     4.356398   \n",
            "min       0.000000   500.000000   256.000000     5.000000     0.000000   \n",
            "25%     282.750000   874.750000  1207.500000     9.000000     2.000000   \n",
            "50%     564.000000  1247.000000  2146.500000    12.000000     5.000000   \n",
            "75%     947.250000  1633.000000  3064.500000    16.000000     9.000000   \n",
            "max    1960.000000  1998.000000  3998.000000    19.000000    18.000000   \n",
            "\n",
            "         talk_time      three_g  touch_screen         wifi  price_range  \n",
            "count  2000.000000  2000.000000   2000.000000  2000.000000  2000.000000  \n",
            "mean     11.011000     0.761500      0.503000     0.507000     1.500000  \n",
            "std       5.463955     0.426273      0.500116     0.500076     1.118314  \n",
            "min       2.000000     0.000000      0.000000     0.000000     0.000000  \n",
            "25%       6.000000     1.000000      0.000000     0.000000     0.750000  \n",
            "50%      11.000000     1.000000      1.000000     1.000000     1.500000  \n",
            "75%      16.000000     1.000000      1.000000     1.000000     2.250000  \n",
            "max      20.000000     1.000000      1.000000     1.000000     3.000000  \n",
            "\n",
            "[8 rows x 21 columns]\n"
          ]
        }
      ]
    },
    {
      "cell_type": "code",
      "source": [
        "import pandas as pd\n",
        "\n",
        "df = pd.read_csv('train.csv')\n",
        "\n",
        "print(df.dtypes)\n",
        "\n",
        "for column in df.columns:\n",
        "    print(f'Column: {column}, Shape: {df[column].shape}')"
      ],
      "metadata": {
        "colab": {
          "base_uri": "https://localhost:8080/"
        },
        "id": "2S-EHEnMciMw",
        "outputId": "f2a77af7-6873-4bc6-889d-35cb6f809917"
      },
      "execution_count": null,
      "outputs": [
        {
          "output_type": "stream",
          "name": "stdout",
          "text": [
            "battery_power      int64\n",
            "blue               int64\n",
            "clock_speed      float64\n",
            "dual_sim           int64\n",
            "fc                 int64\n",
            "four_g             int64\n",
            "int_memory         int64\n",
            "m_dep            float64\n",
            "mobile_wt          int64\n",
            "n_cores            int64\n",
            "pc                 int64\n",
            "px_height          int64\n",
            "px_width           int64\n",
            "ram                int64\n",
            "sc_h               int64\n",
            "sc_w               int64\n",
            "talk_time          int64\n",
            "three_g            int64\n",
            "touch_screen       int64\n",
            "wifi               int64\n",
            "price_range        int64\n",
            "dtype: object\n",
            "Column: battery_power, Shape: (2000,)\n",
            "Column: blue, Shape: (2000,)\n",
            "Column: clock_speed, Shape: (2000,)\n",
            "Column: dual_sim, Shape: (2000,)\n",
            "Column: fc, Shape: (2000,)\n",
            "Column: four_g, Shape: (2000,)\n",
            "Column: int_memory, Shape: (2000,)\n",
            "Column: m_dep, Shape: (2000,)\n",
            "Column: mobile_wt, Shape: (2000,)\n",
            "Column: n_cores, Shape: (2000,)\n",
            "Column: pc, Shape: (2000,)\n",
            "Column: px_height, Shape: (2000,)\n",
            "Column: px_width, Shape: (2000,)\n",
            "Column: ram, Shape: (2000,)\n",
            "Column: sc_h, Shape: (2000,)\n",
            "Column: sc_w, Shape: (2000,)\n",
            "Column: talk_time, Shape: (2000,)\n",
            "Column: three_g, Shape: (2000,)\n",
            "Column: touch_screen, Shape: (2000,)\n",
            "Column: wifi, Shape: (2000,)\n",
            "Column: price_range, Shape: (2000,)\n"
          ]
        }
      ]
    },
    {
      "cell_type": "code",
      "source": [
        "import pandas as pd\n",
        "\n",
        "df = pd.read_csv('train.csv')\n",
        "\n",
        "target_variable = 'price_range'\n",
        "features = df.drop(columns=[target_variable])\n",
        "target = df[target_variable]\n",
        "\n",
        "print('Features:')\n",
        "print(features.head())\n",
        "\n",
        "print('Target:')\n",
        "print(target.head())"
      ],
      "metadata": {
        "colab": {
          "base_uri": "https://localhost:8080/"
        },
        "id": "Dg9T46eidU8K",
        "outputId": "74a3ff8d-8b75-4124-f6b8-45550922cf0f"
      },
      "execution_count": null,
      "outputs": [
        {
          "output_type": "stream",
          "name": "stdout",
          "text": [
            "Features:\n",
            "   battery_power  blue  clock_speed  dual_sim  fc  four_g  int_memory  m_dep  \\\n",
            "0            842     0          2.2         0   1       0           7    0.6   \n",
            "1           1021     1          0.5         1   0       1          53    0.7   \n",
            "2            563     1          0.5         1   2       1          41    0.9   \n",
            "3            615     1          2.5         0   0       0          10    0.8   \n",
            "4           1821     1          1.2         0  13       1          44    0.6   \n",
            "\n",
            "   mobile_wt  n_cores  pc  px_height  px_width   ram  sc_h  sc_w  talk_time  \\\n",
            "0        188        2   2         20       756  2549     9     7         19   \n",
            "1        136        3   6        905      1988  2631    17     3          7   \n",
            "2        145        5   6       1263      1716  2603    11     2          9   \n",
            "3        131        6   9       1216      1786  2769    16     8         11   \n",
            "4        141        2  14       1208      1212  1411     8     2         15   \n",
            "\n",
            "   three_g  touch_screen  wifi  \n",
            "0        0             0     1  \n",
            "1        1             1     0  \n",
            "2        1             1     0  \n",
            "3        1             0     0  \n",
            "4        1             1     0  \n",
            "Target:\n",
            "0    1\n",
            "1    2\n",
            "2    2\n",
            "3    2\n",
            "4    1\n",
            "Name: price_range, dtype: int64\n"
          ]
        }
      ]
    },
    {
      "cell_type": "code",
      "source": [
        "import pandas as pd\n",
        "\n",
        "df = pd.read_csv('train.csv')\n",
        "\n",
        "print(df.isnull().sum())\n",
        "\n",
        "df_filled_zero = df.fillna(0)\n",
        "df_filled_mean = df.fillna(df.mean())\n",
        "\n",
        "print(df_filled_zero.isnull().sum())\n",
        "print(df_filled_mean.isnull().sum())"
      ],
      "metadata": {
        "colab": {
          "base_uri": "https://localhost:8080/"
        },
        "id": "_Wfe2T-Lda2l",
        "outputId": "24e6160e-58fc-4cd7-a4ae-264b7843471c"
      },
      "execution_count": null,
      "outputs": [
        {
          "output_type": "stream",
          "name": "stdout",
          "text": [
            "battery_power    0\n",
            "blue             0\n",
            "clock_speed      0\n",
            "dual_sim         0\n",
            "fc               0\n",
            "four_g           0\n",
            "int_memory       0\n",
            "m_dep            0\n",
            "mobile_wt        0\n",
            "n_cores          0\n",
            "pc               0\n",
            "px_height        0\n",
            "px_width         0\n",
            "ram              0\n",
            "sc_h             0\n",
            "sc_w             0\n",
            "talk_time        0\n",
            "three_g          0\n",
            "touch_screen     0\n",
            "wifi             0\n",
            "price_range      0\n",
            "dtype: int64\n",
            "battery_power    0\n",
            "blue             0\n",
            "clock_speed      0\n",
            "dual_sim         0\n",
            "fc               0\n",
            "four_g           0\n",
            "int_memory       0\n",
            "m_dep            0\n",
            "mobile_wt        0\n",
            "n_cores          0\n",
            "pc               0\n",
            "px_height        0\n",
            "px_width         0\n",
            "ram              0\n",
            "sc_h             0\n",
            "sc_w             0\n",
            "talk_time        0\n",
            "three_g          0\n",
            "touch_screen     0\n",
            "wifi             0\n",
            "price_range      0\n",
            "dtype: int64\n",
            "battery_power    0\n",
            "blue             0\n",
            "clock_speed      0\n",
            "dual_sim         0\n",
            "fc               0\n",
            "four_g           0\n",
            "int_memory       0\n",
            "m_dep            0\n",
            "mobile_wt        0\n",
            "n_cores          0\n",
            "pc               0\n",
            "px_height        0\n",
            "px_width         0\n",
            "ram              0\n",
            "sc_h             0\n",
            "sc_w             0\n",
            "talk_time        0\n",
            "three_g          0\n",
            "touch_screen     0\n",
            "wifi             0\n",
            "price_range      0\n",
            "dtype: int64\n"
          ]
        }
      ]
    },
    {
      "cell_type": "code",
      "source": [
        "from sklearn.preprocessing import MinMaxScaler\n",
        "\n",
        "scaler = MinMaxScaler()\n",
        "normalized_features = scaler.fit_transform(df.drop(columns=['price_range']))\n",
        "\n",
        "normalized_features_df = pd.DataFrame(normalized_features, columns=df.drop(columns=['price_range']).columns)\n",
        "\n",
        "print(normalized_features_df.head())"
      ],
      "metadata": {
        "colab": {
          "base_uri": "https://localhost:8080/"
        },
        "id": "RcgAa6Rkdgve",
        "outputId": "a099dbd3-c9e6-42c3-89a9-b33926a91ae1"
      },
      "execution_count": null,
      "outputs": [
        {
          "output_type": "stream",
          "name": "stdout",
          "text": [
            "   battery_power  blue  clock_speed  dual_sim        fc  four_g  int_memory  \\\n",
            "0       0.227789   0.0         0.68       0.0  0.052632     0.0    0.080645   \n",
            "1       0.347361   1.0         0.00       1.0  0.000000     1.0    0.822581   \n",
            "2       0.041416   1.0         0.00       1.0  0.105263     1.0    0.629032   \n",
            "3       0.076152   1.0         0.80       0.0  0.000000     0.0    0.129032   \n",
            "4       0.881764   1.0         0.28       0.0  0.684211     1.0    0.677419   \n",
            "\n",
            "      m_dep  mobile_wt   n_cores    pc  px_height  px_width       ram  \\\n",
            "0  0.555556   0.900000  0.142857  0.10   0.010204  0.170895  0.612774   \n",
            "1  0.666667   0.466667  0.285714  0.30   0.461735  0.993324  0.634687   \n",
            "2  0.888889   0.541667  0.571429  0.30   0.644388  0.811749  0.627205   \n",
            "3  0.777778   0.425000  0.714286  0.45   0.620408  0.858478  0.671566   \n",
            "4  0.555556   0.508333  0.142857  0.70   0.616327  0.475300  0.308658   \n",
            "\n",
            "       sc_h      sc_w  talk_time  three_g  touch_screen  wifi  \n",
            "0  0.285714  0.388889   0.944444      0.0           0.0   1.0  \n",
            "1  0.857143  0.166667   0.277778      1.0           1.0   0.0  \n",
            "2  0.428571  0.111111   0.388889      1.0           1.0   0.0  \n",
            "3  0.785714  0.444444   0.500000      1.0           0.0   0.0  \n",
            "4  0.214286  0.111111   0.722222      1.0           1.0   0.0  \n"
          ]
        }
      ]
    },
    {
      "cell_type": "code",
      "source": [
        "from sklearn.model_selection import train_test_split\n",
        "\n",
        "features = normalized_features_df\n",
        "target = df['price_range']\n",
        "\n",
        "X_train, X_test, y_train, y_test = train_test_split(features, target, test_size=0.2, random_state=42)\n",
        "\n",
        "print(f'X_train shape: {X_train.shape}')\n",
        "print(f'X_test shape: {X_test.shape}')\n",
        "print(f'y_train shape: {y_train.shape}')\n",
        "print(f'y_test shape: {y_test.shape}')"
      ],
      "metadata": {
        "colab": {
          "base_uri": "https://localhost:8080/"
        },
        "id": "Nbi3-nXRdl3S",
        "outputId": "0150da2c-2123-4e50-9597-28dbd413369f"
      },
      "execution_count": null,
      "outputs": [
        {
          "output_type": "stream",
          "name": "stdout",
          "text": [
            "X_train shape: (1600, 20)\n",
            "X_test shape: (400, 20)\n",
            "y_train shape: (1600,)\n",
            "y_test shape: (400,)\n"
          ]
        }
      ]
    }
  ]
}